{
 "cells": [
  {
   "cell_type": "markdown",
   "metadata": {},
   "source": [
    "### 검색 알고리즘\n",
    "- 데이터에서 해당 요소가 있는지 찾는 것\n",
    "\n",
    "#### 종류\n",
    "1. 순차\n",
    "2. 이진\n",
    "3. 트리"
   ]
  },
  {
   "cell_type": "code",
   "execution_count": 9,
   "metadata": {},
   "outputs": [],
   "source": [
    "# 순차검색 함수 정의\n",
    "def seqSearch(arr, data):\n",
    "    pos = -1 # 아무것도 찾지 않음\n",
    "    size = len(arr)\n",
    "\n",
    "    print('## 비교한 데이터 ==> ', end='')\n",
    "    for i in range(size):\n",
    "        print(arr[i], end=' ')\n",
    "        if arr[i] == data:\n",
    "            pos = i # 내가 찾는 데이터가 이 인덱스에 있다\n",
    "            break\n",
    "        elif arr[i] > data: # 정렬된 데이터에서는 더 이상 검색할 이유가 없음\n",
    "            break\n",
    "\n",
    "    print()\n",
    "    return pos"
   ]
  },
  {
   "cell_type": "code",
   "execution_count": 5,
   "metadata": {},
   "outputs": [
    {
     "name": "stdout",
     "output_type": "stream",
     "text": [
      "배열 -> [188, 150, 168, 162, 105, 120, 177, 50]\n",
      "## 비교한 데이터 ==> 188 150 168 162 105 120 177 50 \n",
      "80(이)가 없음\n"
     ]
    }
   ],
   "source": [
    "# 변수 선언\n",
    "dataArr = [188, 150, 168, 162, 105, 120, 177, 50]\n",
    "foundData = int(input('찾을 값 입력(숫자) '))\n",
    "\n",
    "print(f'배열 -> {dataArr}')\n",
    "pos = seqSearch(dataArr, foundData)\n",
    "if pos == -1:\n",
    "    print(f'{foundData}(이)가 없음')\n",
    "else:\n",
    "    print(f'{foundData}는 {pos}에 존재')"
   ]
  },
  {
   "cell_type": "markdown",
   "metadata": {},
   "source": [
    "- 정렬된 데이터 검색"
   ]
  },
  {
   "cell_type": "code",
   "execution_count": 10,
   "metadata": {},
   "outputs": [
    {
     "name": "stdout",
     "output_type": "stream",
     "text": [
      "배열 -> [50, 105, 120, 150, 162, 168, 177, 188]\n",
      "## 비교한 데이터 ==> 50 105 \n",
      "105는 1에 존재\n"
     ]
    }
   ],
   "source": [
    "# 변수 선언\n",
    "dataArr = [188, 150, 168, 162, 105, 120, 177, 50]\n",
    "dataArr.sort()\n",
    "foundData = int(input('찾을 값 입력(숫자) '))\n",
    "\n",
    "print(f'배열 -> {dataArr}')\n",
    "pos = seqSearch(dataArr, foundData)\n",
    "if pos == -1:\n",
    "    print(f'{foundData}(이)가 없음')\n",
    "else:\n",
    "    print(f'{foundData}는 {pos}에 존재')"
   ]
  },
  {
   "cell_type": "markdown",
   "metadata": {},
   "source": [
    "- 이진검색\n"
   ]
  },
  {
   "cell_type": "code",
   "execution_count": 11,
   "metadata": {},
   "outputs": [],
   "source": [
    "## 이진검색 함수 정의\n",
    "def binSearch(arr, data):\n",
    "    pos = -1\n",
    "    start = 0\n",
    "    end = len(arr) - 1  # 리스트의 마지막 인덱스\n",
    "\n",
    "    while start <= end: # 시작이 끝보다 커지면 검색 실패\n",
    "        mid = (start + end) // 2\n",
    "        if data == arr[mid]:\n",
    "            return mid\n",
    "        elif data > arr[mid]:\n",
    "            start = mid + 1 # 뒤쪽에 데이터가 있다\n",
    "        else:\n",
    "            end = mid - 1   # 앞쪽에 데이터가 있다\n",
    "\n",
    "    return pos "
   ]
  },
  {
   "cell_type": "code",
   "execution_count": 16,
   "metadata": {},
   "outputs": [
    {
     "name": "stdout",
     "output_type": "stream",
     "text": [
      "배열 -> [50, 60, 105, 120, 150, 160, 162, 168, 177, 188]\n",
      "120는 3에 존재\n"
     ]
    }
   ],
   "source": [
    "# 변수\n",
    "dataArr = [50, 60, 105, 120, 150, 160, 162, 168, 177, 188]\n",
    "foundData = int(input('찾을 값 입력(숫자) '))\n",
    "\n",
    "print(f'배열 -> {dataArr}')\n",
    "pos = binSearch(dataArr, foundData)\n",
    "if pos == -1:\n",
    "    print(f'{foundData}(이)가 없음')\n",
    "else:\n",
    "    print(f'{foundData}는 {pos}에 존재')"
   ]
  }
 ],
 "metadata": {
  "kernelspec": {
   "display_name": "Python 3",
   "language": "python",
   "name": "python3"
  },
  "language_info": {
   "codemirror_mode": {
    "name": "ipython",
    "version": 3
   },
   "file_extension": ".py",
   "mimetype": "text/x-python",
   "name": "python",
   "nbconvert_exporter": "python",
   "pygments_lexer": "ipython3",
   "version": "3.11.9"
  }
 },
 "nbformat": 4,
 "nbformat_minor": 2
}
