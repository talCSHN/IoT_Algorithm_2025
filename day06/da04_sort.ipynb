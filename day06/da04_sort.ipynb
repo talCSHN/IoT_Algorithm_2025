{
 "cells": [
  {
   "cell_type": "markdown",
   "metadata": {},
   "source": [
    "### 정렬 Sort\n",
    "\n",
    "<img src=\"https://upload.wikimedia.org/wikipedia/commons/thumb/8/8e/Merge_sort_animation.gif/220px-Merge_sort_animation.gif\" width=400>\n",
    "\n",
    "- 여러 데이터를 작은 값부터 큰 순으로 또는 큰 값부터 작은 순으로 정리하는 것\n",
    "    - 오름차순(Ascending sort)\n",
    "    - 내림차순(Descending sort)\n",
    "\n",
    "<!-- 표 만들때 :--(왼쪽정렬) --:(오른쪽정렬) :--:(중앙정렬)-->\n",
    "|종류|평균|최선|최악\n",
    "|:--:|:--:|:--:|:--:|\n",
    "|선택정렬|$O(n^2)$|$O(n^2)$|$O(n^2)$|\n",
    "|삽입정렬|$O(n^2)$|$O(n^2)$|$O(n^2)$|\n",
    "|버블정렬|$O(n^2)$|$O(n)$|$O(n^2)$|\n",
    "|퀵정렬|$O(n log n)$|$O(n log n)$|$O(n^2)$|\n",
    "|합병정렬|$O(n log n)$|$O(n log n)$|$O(n log n)$|\n",
    "|힙정렬|$O(n log n)$|$O(n log n)$|$O(n log n)$|\n",
    "|쉘정렬|$O(n^{1.25})$|$O(n^{1.25})$|$O(n^{1.25})$|\n",
    "|기수정렬|$O(dn)$|$O(dn)$|$O(dn)$|"
   ]
  },
  {
   "cell_type": "markdown",
   "metadata": {},
   "source": [
    "#### 선택정렬\n",
    "\n",
    "- 여러 데이터 중 가장 작은 값을 뽑는 과정을 반복하여 정렬하는 방식"
   ]
  },
  {
   "cell_type": "code",
   "execution_count": 3,
   "metadata": {},
   "outputs": [],
   "source": [
    "def findMinIdx(arr):\n",
    "    minIdx = 0  # 맨 처음 값을 최소라고 가정\n",
    "    for i in range(1, len(arr)):\n",
    "        if arr[minIdx] > arr[i]:\n",
    "            minIdx = i\n",
    "\n",
    "    return minIdx"
   ]
  },
  {
   "cell_type": "code",
   "execution_count": 4,
   "metadata": {},
   "outputs": [
    {
     "name": "stdout",
     "output_type": "stream",
     "text": [
      "최소값 인덱스 : 2\n",
      "최소값 : 22\n"
     ]
    }
   ],
   "source": [
    "testArr = [55, 88, 22, 33, 77]\n",
    "minPos = findMinIdx(testArr)\n",
    "\n",
    "print(f'최소값 인덱스 : {minPos}')\n",
    "print(f'최소값 : {testArr[minPos]}')\n"
   ]
  },
  {
   "cell_type": "code",
   "execution_count": 9,
   "metadata": {},
   "outputs": [
    {
     "name": "stdout",
     "output_type": "stream",
     "text": [
      "정렬 전 -> [188, 162, 168, 120, 50, 150, 177, 105]\n",
      "정렬 후 -> [50, 105, 120, 150, 162, 168, 177, 188]\n"
     ]
    }
   ],
   "source": [
    "## 변수 선언\n",
    "before = [188, 162, 168, 120, 50, 150, 177, 105]\n",
    "after = []\n",
    "\n",
    "# 메인 코드\n",
    "print(f'정렬 전 -> {before}')\n",
    "\n",
    "for _ in range(len(before)):    # 8번\n",
    "    minPos = findMinIdx(before)\n",
    "    after.append(before[minPos])\n",
    "    del(before[minPos])\n",
    "\n",
    "print(f'정렬 후 -> {after}')"
   ]
  },
  {
   "cell_type": "markdown",
   "metadata": {},
   "source": [
    "#### 데이터 교환에서 가장 중요한 swap\n",
    "- 변수가 두 개 있을때 하나의 값을 다른 곳으로 할당하려면 임시변수가 필요\n",
    "\n",
    "    ```python\n",
    "    def swap(x, y):\n",
    "        temp = x\n",
    "        x = y\n",
    "        y = temp\n",
    "\n",
    "    ```"
   ]
  },
  {
   "cell_type": "markdown",
   "metadata": {},
   "source": [
    "#### 변수 하나로 선택정렬"
   ]
  },
  {
   "cell_type": "code",
   "execution_count": 19,
   "metadata": {},
   "outputs": [
    {
     "name": "stdout",
     "output_type": "stream",
     "text": [
      "정렬 전 -> [188, 162, 168, 120, 50, 150, 177, 105]\n",
      "정렬 중 -> [50, 162, 168, 120, 188, 150, 177, 105]\n",
      "정렬 중 -> [50, 105, 168, 120, 188, 150, 177, 162]\n",
      "정렬 중 -> [50, 105, 120, 168, 188, 150, 177, 162]\n",
      "정렬 중 -> [50, 105, 120, 150, 188, 168, 177, 162]\n",
      "정렬 중 -> [50, 105, 120, 150, 162, 168, 177, 188]\n",
      "정렬 중 -> [50, 105, 120, 150, 162, 168, 177, 188]\n",
      "정렬 중 -> [50, 105, 120, 150, 162, 168, 177, 188]\n",
      "정렬 후 -> [50, 105, 120, 150, 162, 168, 177, 188]\n"
     ]
    }
   ],
   "source": [
    "def sortSelection(arr):\n",
    "    n = len(arr)\n",
    "    for i in range(0, n-1):\n",
    "        minIdx = i\n",
    "        for j in range(i+1, n):\n",
    "            if arr[minIdx] > arr[j]:\n",
    "                minIdx = j\n",
    "\n",
    "        temp = arr[i]\n",
    "        arr[i] = arr[minIdx]\n",
    "        arr[minIdx] = temp\n",
    "\n",
    "        print(f'정렬 중 -> {arr}')\n",
    "\n",
    "    return arr\n",
    "\n",
    "dataArr = [188, 162, 168, 120, 50, 150, 177, 105]\n",
    "\n",
    "print(f'정렬 전 -> {dataArr}')\n",
    "dataArr = sortSelection(dataArr)\n",
    "print(f'정렬 후 -> {dataArr}')\n"
   ]
  },
  {
   "cell_type": "markdown",
   "metadata": {},
   "source": [
    "#### 삽입 정렬\n",
    "- 기존 데이터 중에 자신의 위치를 찾아 데이터를 삽입하는 정렬 방식"
   ]
  },
  {
   "cell_type": "markdown",
   "metadata": {},
   "source": [
    "- 삽입될 위치를 찾는 함수"
   ]
  },
  {
   "cell_type": "code",
   "execution_count": 12,
   "metadata": {},
   "outputs": [],
   "source": [
    "def findIdxToInsert(arr, data):\n",
    "    foundIdx = -1   # 배열의 인덱스 앞(인덱스 0보다 앞을 의미)\n",
    "    for i in range(0, len(arr)):\n",
    "        if arr[i] > data:\n",
    "            foundIdx = i\n",
    "            break\n",
    "    \n",
    "    if foundIdx == -1:  # 큰 값을 못찾음. 제일 마지막 위치\n",
    "        return len(arr)\n",
    "    else:\n",
    "        return foundIdx"
   ]
  },
  {
   "cell_type": "code",
   "execution_count": 13,
   "metadata": {},
   "outputs": [
    {
     "name": "stdout",
     "output_type": "stream",
     "text": [
      "삽입위치 인덱스 : 0\n"
     ]
    }
   ],
   "source": [
    "testArr = []\n",
    "print(f'삽입위치 인덱스 : {findIdxToInsert(testArr, 55)}')"
   ]
  },
  {
   "cell_type": "code",
   "execution_count": 14,
   "metadata": {},
   "outputs": [
    {
     "name": "stdout",
     "output_type": "stream",
     "text": [
      "삽입위치 인덱스 : 1\n"
     ]
    }
   ],
   "source": [
    "testArr = [33, 77, 88]\n",
    "print(f'삽입위치 인덱스 : {findIdxToInsert(testArr, 55)}')"
   ]
  },
  {
   "cell_type": "code",
   "execution_count": 15,
   "metadata": {},
   "outputs": [
    {
     "name": "stdout",
     "output_type": "stream",
     "text": [
      "삽입위치 인덱스 : 2\n"
     ]
    }
   ],
   "source": [
    "testArr = [33, 55, 77, 88]\n",
    "print(f'삽입위치 인덱스 : {findIdxToInsert(testArr, 55)}')"
   ]
  },
  {
   "cell_type": "code",
   "execution_count": 16,
   "metadata": {},
   "outputs": [
    {
     "name": "stdout",
     "output_type": "stream",
     "text": [
      "삽입위치 인덱스 : 4\n"
     ]
    }
   ],
   "source": [
    "testArr = [33, 55, 77, 88]\n",
    "print(f'삽입위치 인덱스 : {findIdxToInsert(testArr, 100)}')"
   ]
  },
  {
   "cell_type": "markdown",
   "metadata": {},
   "source": [
    "- 삽입정렬 구현"
   ]
  },
  {
   "cell_type": "code",
   "execution_count": 17,
   "metadata": {},
   "outputs": [
    {
     "name": "stdout",
     "output_type": "stream",
     "text": [
      "정렬 전 -> [188, 162, 168, 120, 50, 150, 177, 105]\n",
      "정렬 중 -> [188]\n",
      "정렬 중 -> [162, 188]\n",
      "정렬 중 -> [162, 168, 188]\n",
      "정렬 중 -> [120, 162, 168, 188]\n",
      "정렬 중 -> [50, 120, 162, 168, 188]\n",
      "정렬 중 -> [50, 120, 150, 162, 168, 188]\n",
      "정렬 중 -> [50, 120, 150, 162, 168, 177, 188]\n",
      "정렬 중 -> [50, 105, 120, 150, 162, 168, 177, 188]\n",
      "정렬 후 -> [50, 105, 120, 150, 162, 168, 177, 188]\n"
     ]
    }
   ],
   "source": [
    "# 변수\n",
    "before = [188, 162, 168, 120, 50, 150, 177, 105]\n",
    "after  = []\n",
    "\n",
    "# 메인 코드\n",
    "print(f'정렬 전 -> {before}')\n",
    "for i in range(len(before)):\n",
    "    data = before[i]\n",
    "    insPos = findIdxToInsert(after, data)\n",
    "    after.insert(insPos, data)\n",
    "    print(f'정렬 중 -> {after}')\n",
    "\n",
    "print(f'정렬 후 -> {after}')"
   ]
  },
  {
   "cell_type": "markdown",
   "metadata": {},
   "source": [
    "- 변수 하나로 삽입정렬"
   ]
  },
  {
   "cell_type": "code",
   "execution_count": null,
   "metadata": {},
   "outputs": [
    {
     "name": "stdout",
     "output_type": "stream",
     "text": [
      "정렬 전 -> [188, 162, 168, 120, 50, 150, 177, 105]\n",
      "정렬 중 -> [162, 188, 168, 120, 50, 150, 177, 105]\n",
      "정렬 중 -> [162, 168, 188, 120, 50, 150, 177, 105]\n",
      "정렬 중 -> [120, 162, 168, 188, 50, 150, 177, 105]\n",
      "정렬 중 -> [50, 120, 162, 168, 188, 150, 177, 105]\n",
      "정렬 중 -> [50, 120, 150, 162, 168, 188, 177, 105]\n",
      "정렬 중 -> [50, 120, 150, 162, 168, 177, 188, 105]\n",
      "정렬 중 -> [50, 105, 120, 150, 162, 168, 177, 188]\n",
      "정렬 후 -> [50, 105, 120, 150, 162, 168, 177, 188]\n"
     ]
    }
   ],
   "source": [
    "def sortInsertion(arr):\n",
    "    n = len(arr)\n",
    "    for end in range(1, n): # end -> 1.....n-1\n",
    "        for cur in range(end, 0, -1):   # cur -> 거꾸로\n",
    "            if arr[cur - 1] > arr[cur]:\n",
    "                # temp = arr[cur]\n",
    "                # arr[cur] = arr[cur - 1]\n",
    "                # arr[cur - 1] = temp\n",
    "\n",
    "                # temp 변수 만들지 않고 바로 변경할 수 있는 로직(파이썬에 존재)\n",
    "                arr[cur - 1], arr[cur] = arr[cur], arr[cur - 1]\n",
    "        print(f'정렬 중 -> {arr}')\n",
    "\n",
    "    return arr\n",
    "\n",
    "dataArr = [188, 162, 168, 120, 50, 150, 177, 105]\n",
    "\n",
    "# 메인 코드\n",
    "print(f'정렬 전 -> {dataArr}')\n",
    "dataArr = sortInsertion(dataArr)\n",
    "print(f'정렬 후 -> {dataArr}')"
   ]
  },
  {
   "cell_type": "markdown",
   "metadata": {},
   "source": [
    "#### 버블 정렬\n",
    "\n",
    "- 앞뒤 데이터를 비교해서 큰 값을 뒤로 보내면서 정렬하는 방식\n",
    "- 거품처럼 생겨서 버블 정렬 "
   ]
  },
  {
   "cell_type": "code",
   "execution_count": 24,
   "metadata": {},
   "outputs": [],
   "source": [
    "import random"
   ]
  },
  {
   "cell_type": "code",
   "execution_count": 31,
   "metadata": {},
   "outputs": [
    {
     "name": "stdout",
     "output_type": "stream",
     "text": [
      "## 정렬 전 ## -> [50, 105, 120, 188, 150, 162, 168, 177]\n",
      " 정렬 중 -> [50, 105, 120, 150, 162, 168, 177, 188]\n",
      " 정렬 중 -> [50, 105, 120, 150, 162, 168, 177, 188]\n",
      " 정렬 중 -> [50, 105, 120, 150, 162, 168, 177, 188]\n",
      " 정렬 중 -> [50, 105, 120, 150, 162, 168, 177, 188]\n",
      " 정렬 중 -> [50, 105, 120, 150, 162, 168, 177, 188]\n",
      " 정렬 중 -> [50, 105, 120, 150, 162, 168, 177, 188]\n",
      " 정렬 중 -> [50, 105, 120, 150, 162, 168, 177, 188]\n",
      "## 정렬 후 ## -> [50, 105, 120, 150, 162, 168, 177, 188]\n"
     ]
    }
   ],
   "source": [
    "# 함수 정의\n",
    "def sortBubble(arr):\n",
    "    n = len(arr)\n",
    "    for end in range(n-1, 0, -1):   # 거꾸로\n",
    "        for cur in range(0, end):\n",
    "            if arr[cur] > arr[cur + 1]:\n",
    "                arr[cur], arr[cur + 1] = arr[cur + 1], arr[cur] # swap 기능을 포함\n",
    "\n",
    "        print(f' 정렬 중 -> {arr}')\n",
    "\n",
    "    return arr\n",
    "\n",
    "# dataArr = [188, 162, 168, 120, 50, 150, 177, 105]\n",
    "dataArr = [50, 105, 120, 188, 150, 162, 168, 177]\n",
    "\n",
    "# dataArr = [random.randint(50, 190) for _ in range(random.randint(8, 20))]\n",
    "\n",
    "print(f'## 정렬 전 ## -> {dataArr}')\n",
    "dataArr = sortBubble(dataArr)\n",
    "print(f'## 정렬 후 ## -> {dataArr}')"
   ]
  },
  {
   "cell_type": "markdown",
   "metadata": {},
   "source": [
    "##### 버블 정렬 중\n",
    "- 데이터가 거의 정렬이 되어 있는 상태고, 한 두개의 데이터만 제자리에 없는 경우 개선방법\n",
    "- 한 사이클을 마쳤을 때 모두 정렬이 되면 더이상 반복문을 처리하지 않고 탈출"
   ]
  },
  {
   "cell_type": "code",
   "execution_count": 30,
   "metadata": {},
   "outputs": [
    {
     "name": "stdout",
     "output_type": "stream",
     "text": [
      "## 정렬 전 ## -> [50, 105, 120, 188, 150, 162, 168, 177]\n",
      "정렬 중 -> [50, 105, 120, 150, 162, 168, 177, 188]\n",
      "정렬 중 -> [50, 105, 120, 150, 162, 168, 177, 188]\n",
      "## 정렬 후 ## -> [50, 105, 120, 150, 162, 168, 177, 188]\n"
     ]
    }
   ],
   "source": [
    "# 버블정렬 개선함수\n",
    "def sortBubbleA(arr):\n",
    "    n = len(arr)\n",
    "\n",
    "    for end in range(n-1, 0, -1):\n",
    "        changeYn = False\n",
    "        for cur in range(0, end):\n",
    "            if arr[cur] > arr[cur + 1]:\n",
    "                arr[cur], arr[cur + 1] = arr[cur + 1], arr[cur]\n",
    "                changeYn = True # 값이 바뀌었다\n",
    "\n",
    "        print(f'정렬 중 -> {arr}')\n",
    "\n",
    "        if not changeYn:\n",
    "            break\n",
    "    \n",
    "    return arr\n",
    "\n",
    "dataArr = [50, 105, 120, 188, 150, 162, 168, 177]\n",
    "\n",
    "print(f'## 정렬 전 ## -> {dataArr}')\n",
    "dataArr = sortBubbleA(dataArr)\n",
    "print(f'## 정렬 후 ## -> {dataArr}')"
   ]
  },
  {
   "cell_type": "markdown",
   "metadata": {},
   "source": [
    "- 다른 정렬은 데이터가 거의 정렬이 다 되어있어도 횟수만큼 동작 - $O(n^2)$\n",
    "- 버블 정렬은 데이터가 거의 정렬되어 있으면 반복횟수를 줄일 수 있음 - $O(n)$"
   ]
  },
  {
   "cell_type": "markdown",
   "metadata": {},
   "source": [
    "#### 퀵 정렬"
   ]
  }
 ],
 "metadata": {
  "kernelspec": {
   "display_name": "Python 3",
   "language": "python",
   "name": "python3"
  },
  "language_info": {
   "codemirror_mode": {
    "name": "ipython",
    "version": 3
   },
   "file_extension": ".py",
   "mimetype": "text/x-python",
   "name": "python",
   "nbconvert_exporter": "python",
   "pygments_lexer": "ipython3",
   "version": "3.11.9"
  }
 },
 "nbformat": 4,
 "nbformat_minor": 2
}
