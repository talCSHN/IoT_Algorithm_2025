{
 "cells": [
  {
   "cell_type": "markdown",
   "metadata": {},
   "source": [
    "### 그래프\n",
    "<img src=\"https://upload.wikimedia.org/wikipedia/commons/thumb/a/a2/Directed.svg/1024px-Directed.svg.png\" width=\"300\">\n",
    "\n",
    "- 정점(Vertex)와 간선(Edge)로 구성된 자료구조\n",
    "- 네비게이션에서 길찾기(거리우선, 시간우선, 금액우선), LinkedIn 인맥표시, 지하철 노선도...\n"
   ]
  },
  {
   "cell_type": "markdown",
   "metadata": {},
   "source": [
    "- 정점 생성"
   ]
  },
  {
   "cell_type": "code",
   "execution_count": 1,
   "metadata": {},
   "outputs": [],
   "source": [
    "class Graph:\n",
    "    def __init__(self, size):\n",
    "        self.SIZE = size\n",
    "        self.graph = [[0 for _ in range(size)] for _ in range(size)]"
   ]
  },
  {
   "cell_type": "code",
   "execution_count": 6,
   "metadata": {},
   "outputs": [],
   "source": [
    "G1 = Graph(4)"
   ]
  },
  {
   "cell_type": "code",
   "execution_count": 7,
   "metadata": {},
   "outputs": [],
   "source": [
    "# 0->A, 1->B, 2->C, 3->D\n",
    "G1.graph[0][1] = 1\n",
    "G1.graph[0][2] = 1\n",
    "G1.graph[0][3] = 1\n",
    "\n",
    "G1.graph[1][0] = 1\n",
    "G1.graph[1][2] = 1\n",
    "# G1.graph[1][3] = 0\n",
    "\n",
    "G1.graph[2][0] = 1\n",
    "G1.graph[2][1] = 1\n",
    "G1.graph[2][3] = 1\n",
    "\n",
    "G1.graph[3][0] = 1\n",
    "# G1.graph[3][1] = 0\n",
    "G1.graph[3][2] = 1"
   ]
  },
  {
   "cell_type": "markdown",
   "metadata": {},
   "source": [
    "- 방향 그래프"
   ]
  },
  {
   "cell_type": "code",
   "execution_count": 8,
   "metadata": {},
   "outputs": [],
   "source": [
    "G3 = Graph(4)"
   ]
  },
  {
   "cell_type": "code",
   "execution_count": 9,
   "metadata": {},
   "outputs": [],
   "source": [
    "# 0->A, 1->B, 2->C, 3->D\n",
    "G3.graph[0][1] = 1\n",
    "G3.graph[0][2] = 1\n",
    "G3.graph[3][0] = 1\n",
    "G3.graph[3][2] = 1"
   ]
  },
  {
   "cell_type": "markdown",
   "metadata": {},
   "source": [
    "- 그래프 인접행렬 확인"
   ]
  },
  {
   "cell_type": "code",
   "execution_count": 10,
   "metadata": {},
   "outputs": [
    {
     "name": "stdout",
     "output_type": "stream",
     "text": [
      "## G1 무방향 그래프 ##\n",
      "0\t1\t1\t1\t\n",
      "1\t0\t1\t0\t\n",
      "1\t1\t0\t1\t\n",
      "1\t0\t1\t0\t\n"
     ]
    }
   ],
   "source": [
    "# G1 인접행렬\n",
    "print('## G1 무방향 그래프 ##')\n",
    "\n",
    "for row in range(G1.SIZE):\n",
    "    for col in range(G1.SIZE):\n",
    "        print(G1.graph[row][col], end='\\t')\n",
    "    print() # 열을 다 표현하면 다음 행으로 한줄 내림"
   ]
  },
  {
   "cell_type": "code",
   "execution_count": 12,
   "metadata": {},
   "outputs": [
    {
     "name": "stdout",
     "output_type": "stream",
     "text": [
      "## G3 방향 그래프 ##\n",
      "0\t1\t1\t0\t\n",
      "0\t0\t0\t0\t\n",
      "0\t0\t0\t0\t\n",
      "1\t0\t1\t0\t\n"
     ]
    }
   ],
   "source": [
    "# G1 인접행렬\n",
    "print('## G3 방향 그래프 ##')\n",
    "\n",
    "for row in range(G3.SIZE):\n",
    "    for col in range(G3.SIZE):\n",
    "        print(G3.graph[row][col], end='\\t')\n",
    "    print() # 열을 다 표현하면 다음 행으로 한줄 내림"
   ]
  },
  {
   "cell_type": "markdown",
   "metadata": {},
   "source": [
    "#### 그래프 개선\n",
    "- 정점이 인접행렬에서 숫자로 표시되는데, 정점의 이름으로 변경하는 것\n",
    "- 쉽게 정점이 파악되는 장점"
   ]
  },
  {
   "cell_type": "code",
   "execution_count": null,
   "metadata": {},
   "outputs": [],
   "source": [
    "# 전역변수\n",
    "nameArr = ['문별', '솔라', '휘인', '쯔위', '선미', '화사']\n",
    "# 아래 변수이름으로 코딩할 때 사용\n",
    "문별 = 0; 솔라 = 1; 휘인 = 2; 쯔위 = 3; 선미 = 4; 화사 = 5"
   ]
  },
  {
   "cell_type": "code",
   "execution_count": 15,
   "metadata": {},
   "outputs": [
    {
     "data": {
      "text/plain": [
       "0"
      ]
     },
     "execution_count": 15,
     "metadata": {},
     "output_type": "execute_result"
    }
   ],
   "source": [
    "nameArr.index('문별')"
   ]
  },
  {
   "cell_type": "code",
   "execution_count": 36,
   "metadata": {},
   "outputs": [],
   "source": [
    "# 그래프  출력 시 정점 표시하는 함수\n",
    "def printGraph(g):  # g: Graph 객체 매개변수\n",
    "    # global nameArr  # nameArr의 데이터를 함수 내에서 변경하겠다/ 변경할 일 없으면 global로 선언 안해도 됨\n",
    "\n",
    "    print('\\t', end='')\n",
    "    for v in range(g.SIZE):\n",
    "        print(nameArr[v], end='\\t')\n",
    "    print()\n",
    "    \n",
    "    for row in range(g.SIZE):\n",
    "        print(nameArr[row], end='\\t')    # 행마다 정점 이름 표시\n",
    "        for col in range(g.SIZE):\n",
    "            print(f'{g.graph[row][col]:4d}', end='\\t')\n",
    "        print() # 열을 다 표현하면 다음 행으로 한줄 내림\n",
    "\n",
    "    print()"
   ]
  },
  {
   "cell_type": "markdown",
   "metadata": {},
   "source": [
    "- 그래프 생성"
   ]
  },
  {
   "cell_type": "code",
   "execution_count": 16,
   "metadata": {},
   "outputs": [],
   "source": [
    "G4 = Graph(6)"
   ]
  },
  {
   "cell_type": "markdown",
   "metadata": {},
   "source": [
    "- 간선 연결(무방향)"
   ]
  },
  {
   "cell_type": "code",
   "execution_count": 18,
   "metadata": {},
   "outputs": [],
   "source": [
    "G4.graph[문별][솔라] = 1; G4.graph[문별][휘인] = 1\n",
    "G4.graph[솔라][문별] = 1; G4.graph[솔라][쯔위] = 1\n",
    "G4.graph[휘인][문별] = 1; G4.graph[휘인][쯔위] = 1\n",
    "G4.graph[쯔위][솔라] = 1; G4.graph[쯔위][휘인] = 1; G4.graph[쯔위][선미] = 1; G4.graph[쯔위][화사] = 1\n",
    "G4.graph[선미][쯔위] = 1; G4.graph[선미][화사] = 1\n",
    "G4.graph[화사][쯔위] = 1; G4.graph[화사][선미] = 1"
   ]
  },
  {
   "cell_type": "markdown",
   "metadata": {},
   "source": [
    "- 개선된 그래프 출력"
   ]
  },
  {
   "cell_type": "code",
   "execution_count": 38,
   "metadata": {},
   "outputs": [
    {
     "name": "stdout",
     "output_type": "stream",
     "text": [
      "## 개선된 무방향 그래프 출력 ##\n",
      "\t문별\t솔라\t휘인\t쯔위\t선미\t화사\t\n",
      "문별\t   0\t   1\t   1\t   0\t   0\t   0\t\n",
      "솔라\t   1\t   0\t   0\t   1\t   0\t   0\t\n",
      "휘인\t   1\t   0\t   0\t   1\t   0\t   0\t\n",
      "쯔위\t   0\t   1\t   1\t   0\t   1\t   1\t\n",
      "선미\t   0\t   0\t   0\t   1\t   0\t   1\t\n",
      "화사\t   0\t   0\t   0\t   1\t   1\t   0\t\n",
      "\n"
     ]
    }
   ],
   "source": [
    "print('## 개선된 무방향 그래프 출력 ##')\n",
    "printGraph(G4)"
   ]
  },
  {
   "cell_type": "markdown",
   "metadata": {},
   "source": [
    "#### 응용 예\n",
    "- 소셜 네트워크 분석(사람[정점(vertex)], 친구관계[간선])\n",
    "- 지도, 네비게이션\n",
    "- 인터넷 및 네트워크 라우팅\n",
    "- 유튜브 추천 시스템\n",
    "- 깃 브랜치 구조\n",
    "- AI 신경망"
   ]
  }
 ],
 "metadata": {
  "kernelspec": {
   "display_name": "Python 3",
   "language": "python",
   "name": "python3"
  },
  "language_info": {
   "codemirror_mode": {
    "name": "ipython",
    "version": 3
   },
   "file_extension": ".py",
   "mimetype": "text/x-python",
   "name": "python",
   "nbconvert_exporter": "python",
   "pygments_lexer": "ipython3",
   "version": "3.11.9"
  }
 },
 "nbformat": 4,
 "nbformat_minor": 2
}
