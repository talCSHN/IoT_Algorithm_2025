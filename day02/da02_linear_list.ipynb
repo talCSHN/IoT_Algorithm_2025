{
 "cells": [
  {
   "cell_type": "markdown",
   "metadata": {},
   "source": [
    "### 선형 리스트(Linear List)"
   ]
  },
  {
   "cell_type": "code",
   "execution_count": 22,
   "metadata": {},
   "outputs": [],
   "source": [
    "kakaoTalk = ['다현', '정연', '쯔위', '사나', '모모']"
   ]
  },
  {
   "cell_type": "code",
   "execution_count": 13,
   "metadata": {},
   "outputs": [
    {
     "name": "stdout",
     "output_type": "stream",
     "text": [
      "1643201121712\n",
      "1643201118448\n",
      "1643201122864\n",
      "1643201122672\n"
     ]
    }
   ],
   "source": [
    "print(id(kakaoTalk[0]))\n",
    "print(id(kakaoTalk[1]))\n",
    "print(id(kakaoTalk[2]))\n",
    "print(id(kakaoTalk[3]))"
   ]
  },
  {
   "cell_type": "code",
   "execution_count": 14,
   "metadata": {},
   "outputs": [
    {
     "data": {
      "text/plain": [
       "'다현'"
      ]
     },
     "execution_count": 14,
     "metadata": {},
     "output_type": "execute_result"
    }
   ],
   "source": [
    "kakaoTalk[0]"
   ]
  },
  {
   "cell_type": "code",
   "execution_count": 15,
   "metadata": {},
   "outputs": [
    {
     "data": {
      "text/plain": [
       "'모모'"
      ]
     },
     "execution_count": 15,
     "metadata": {},
     "output_type": "execute_result"
    }
   ],
   "source": [
    "kakaoTalk[4]"
   ]
  },
  {
   "cell_type": "markdown",
   "metadata": {},
   "source": [
    "#### 배열이라고 가정\n",
    "- 데이터 마지막에 추가하려면\n",
    "    1. 배열의 마지막에 빈공간을 생성\n",
    "    2. 데이터 추가"
   ]
  },
  {
   "cell_type": "code",
   "execution_count": 23,
   "metadata": {},
   "outputs": [
    {
     "data": {
      "text/plain": [
       "['다현', '정연', '쯔위', '사나', '모모', None]"
      ]
     },
     "execution_count": 23,
     "metadata": {},
     "output_type": "execute_result"
    }
   ],
   "source": [
    "kakaoTalk.append(None)\n",
    "kakaoTalk"
   ]
  },
  {
   "cell_type": "code",
   "execution_count": 24,
   "metadata": {},
   "outputs": [
    {
     "data": {
      "text/plain": [
       "['다현', '정연', '쯔위', '사나', '모모', '나연']"
      ]
     },
     "execution_count": 24,
     "metadata": {},
     "output_type": "execute_result"
    }
   ],
   "source": [
    "kakaoTalk[len(kakaoTalk) - 1] = '나연'\n",
    "kakaoTalk"
   ]
  },
  {
   "cell_type": "markdown",
   "metadata": {},
   "source": [
    "- 데이터를 중간에 추가하려면\n",
    "    1. 배열의 마지막에 빈공간 추가\n",
    "    2. 데이터를 추가할 위치까지 이전 데이터를 뒤로 쉬프트\n",
    "    3. 중간의 빈 위치에 새 데이터 추가\n",
    "- insert() 함수 안쓰면 위와 같이 구현 해야함"
   ]
  },
  {
   "cell_type": "code",
   "execution_count": 25,
   "metadata": {},
   "outputs": [
    {
     "data": {
      "text/plain": [
       "['다현', '정연', '쯔위', '사나', '모모', '나연']"
      ]
     },
     "execution_count": 25,
     "metadata": {},
     "output_type": "execute_result"
    }
   ],
   "source": [
    "kakaoTalk"
   ]
  },
  {
   "cell_type": "code",
   "execution_count": 26,
   "metadata": {},
   "outputs": [
    {
     "data": {
      "text/plain": [
       "['다현', '정연', '쯔위', '사나', '모모', '나연', None]"
      ]
     },
     "execution_count": 26,
     "metadata": {},
     "output_type": "execute_result"
    }
   ],
   "source": [
    "# 맨 마지막에 빈공간 생성\n",
    "kakaoTalk.append(None)\n",
    "kakaoTalk"
   ]
  },
  {
   "cell_type": "code",
   "execution_count": 27,
   "metadata": {},
   "outputs": [
    {
     "data": {
      "text/plain": [
       "['다현', '정연', '쯔위', '사나', '모모', None, '나연']"
      ]
     },
     "execution_count": 27,
     "metadata": {},
     "output_type": "execute_result"
    }
   ],
   "source": [
    "# 하나씩 뒤로 쉬프트\n",
    "kakaoTalk[6] = kakaoTalk[5]\n",
    "kakaoTalk[5] = None\n",
    "kakaoTalk"
   ]
  },
  {
   "cell_type": "code",
   "execution_count": 28,
   "metadata": {},
   "outputs": [
    {
     "data": {
      "text/plain": [
       "['다현', '정연', '쯔위', None, '사나', '모모', '나연']"
      ]
     },
     "execution_count": 28,
     "metadata": {},
     "output_type": "execute_result"
    }
   ],
   "source": [
    "# 계속 이동\n",
    "kakaoTalk[5] = kakaoTalk[4]\n",
    "kakaoTalk[4] = None\n",
    "kakaoTalk[4] = kakaoTalk[3]\n",
    "kakaoTalk[3] = None\n",
    "kakaoTalk\n",
    "\n"
   ]
  },
  {
   "cell_type": "code",
   "execution_count": 29,
   "metadata": {},
   "outputs": [
    {
     "data": {
      "text/plain": [
       "['다현', '정연', '쯔위', '미나', '사나', '모모', '나연']"
      ]
     },
     "execution_count": 29,
     "metadata": {},
     "output_type": "execute_result"
    }
   ],
   "source": [
    "# 빈자리에 미나 추가\n",
    "kakaoTalk[3] ='미나'\n",
    "kakaoTalk"
   ]
  },
  {
   "cell_type": "markdown",
   "metadata": {},
   "source": [
    "- 데이터 삭제\n",
    "    1. 위치의 값을 None으로 변경\n",
    "    2. None이 된 빈 위치에 오른쪽 데이터를 이동, 그 자리는 None\n",
    "    3. 배열의 마지막이 None이 될때까지 반복\n",
    "    4. del(array[index])"
   ]
  },
  {
   "cell_type": "markdown",
   "metadata": {},
   "source": [
    "#### 선형리스트 일반 구현\n",
    "- da03_linear_list.py"
   ]
  }
 ],
 "metadata": {
  "kernelspec": {
   "display_name": "Python 3",
   "language": "python",
   "name": "python3"
  },
  "language_info": {
   "codemirror_mode": {
    "name": "ipython",
    "version": 3
   },
   "file_extension": ".py",
   "mimetype": "text/x-python",
   "name": "python",
   "nbconvert_exporter": "python",
   "pygments_lexer": "ipython3",
   "version": "3.11.9"
  }
 },
 "nbformat": 4,
 "nbformat_minor": 2
}
