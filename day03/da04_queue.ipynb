{
 "cells": [
  {
   "cell_type": "markdown",
   "metadata": {},
   "source": [
    "### Queue 큐\n",
    "<img src=\"https://upload.wikimedia.org/wikipedia/commons/thumb/5/52/Data_Queue.svg/1024px-Data_Queue.svg.png\" width=\"300\">\n",
    "\n",
    "- 입구와 출구가 정반대 위치한 데이터구조\n",
    "- 먼저 들어간 데이터가 먼저 나옴\n",
    "    - FIFO(First In First Out)\n",
    "- 동작\n",
    "    - enQueue : 데이터 삽입\n",
    "    - deQueue : 데이터 추출\n",
    "    - front : 맨앞 데이터\n",
    "    - rear(back) : 맨 뒤 데이터"
   ]
  },
  {
   "cell_type": "markdown",
   "metadata": {},
   "source": [
    "- 기본큐 상태"
   ]
  },
  {
   "cell_type": "code",
   "execution_count": 1,
   "metadata": {},
   "outputs": [],
   "source": [
    "queue = [None for _ in range(5)]\n",
    "front = rear = -1"
   ]
  },
  {
   "cell_type": "markdown",
   "metadata": {},
   "source": [
    "- enQueue"
   ]
  },
  {
   "cell_type": "code",
   "execution_count": 2,
   "metadata": {},
   "outputs": [],
   "source": [
    "rear += 1\n",
    "queue[rear] = '호날두'"
   ]
  },
  {
   "cell_type": "code",
   "execution_count": 3,
   "metadata": {},
   "outputs": [],
   "source": [
    "rear += 1\n",
    "queue[rear] = '메시'\n",
    "rear += 1\n",
    "queue[rear] = '음바페'"
   ]
  },
  {
   "cell_type": "markdown",
   "metadata": {},
   "source": [
    "- 큐 상태 확인"
   ]
  },
  {
   "cell_type": "code",
   "execution_count": 4,
   "metadata": {},
   "outputs": [
    {
     "name": "stdout",
     "output_type": "stream",
     "text": [
      "---------큐상태----------\n",
      "[출구]<-호날두<-메시<-음바페<-None<-None<-[입구]\n"
     ]
    }
   ],
   "source": [
    "print('---------큐상태----------')\n",
    "print('[출구]', end='<-')\n",
    "for i in range(0, len(queue)):\n",
    "    print(queue[i], end='<-')\n",
    "\n",
    "print('[입구]')"
   ]
  },
  {
   "cell_type": "code",
   "execution_count": 5,
   "metadata": {},
   "outputs": [
    {
     "data": {
      "text/plain": [
       "2"
      ]
     },
     "execution_count": 5,
     "metadata": {},
     "output_type": "execute_result"
    }
   ],
   "source": [
    "rear"
   ]
  },
  {
   "cell_type": "markdown",
   "metadata": {},
   "source": [
    "- deQueue"
   ]
  },
  {
   "cell_type": "code",
   "execution_count": 6,
   "metadata": {},
   "outputs": [
    {
     "name": "stdout",
     "output_type": "stream",
     "text": [
      "deQueue : 호날두\n"
     ]
    }
   ],
   "source": [
    "front += 1\n",
    "data = queue[front]\n",
    "queue[front] = None\n",
    "print(f'deQueue : {data}')"
   ]
  },
  {
   "cell_type": "code",
   "execution_count": 7,
   "metadata": {},
   "outputs": [
    {
     "name": "stdout",
     "output_type": "stream",
     "text": [
      "deQueue : 메시\n"
     ]
    }
   ],
   "source": [
    "front += 1\n",
    "data = queue[front]\n",
    "queue[front] = None\n",
    "print(f'deQueue : {data}')"
   ]
  },
  {
   "cell_type": "code",
   "execution_count": 8,
   "metadata": {},
   "outputs": [
    {
     "name": "stdout",
     "output_type": "stream",
     "text": [
      "deQueue : 음바페\n"
     ]
    }
   ],
   "source": [
    "front += 1\n",
    "data = queue[front]\n",
    "queue[front] = None\n",
    "print(f'deQueue : {data}')"
   ]
  },
  {
   "cell_type": "markdown",
   "metadata": {},
   "source": [
    "- 현재 큐상태"
   ]
  },
  {
   "cell_type": "code",
   "execution_count": 9,
   "metadata": {},
   "outputs": [
    {
     "name": "stdout",
     "output_type": "stream",
     "text": [
      "---------큐상태----------\n",
      "[출구]<-None<-None<-None<-None<-None<-[입구]\n"
     ]
    }
   ],
   "source": [
    "print('---------큐상태----------')\n",
    "print('[출구]', end='<-')\n",
    "for i in range(0, len(queue)):\n",
    "    print(queue[i], end='<-')\n",
    "\n",
    "print('[입구]')"
   ]
  },
  {
   "cell_type": "markdown",
   "metadata": {},
   "source": [
    "#### 큐 응용사례\n",
    "- OS에서 프로세스 스케줄링\n",
    "- 네트워크 데이터 패킷 처리\n",
    "- 프린터 작업 대기열(인쇄풀)\n",
    "- 키보드, 마우스 입력 이벤트 처리(Event Queue)\n",
    "- 메일서버 작업처리"
   ]
  },
  {
   "cell_type": "markdown",
   "metadata": {},
   "source": [
    "#### 큐 변형 자료구조\n",
    "\n",
    "- deque : double ended queue\n",
    "    - 양쪽에서 데이터를 추출할 수 있는 Queue\n",
    "    - 스택, 큐 모두 구현 가능"
   ]
  },
  {
   "cell_type": "code",
   "execution_count": 1,
   "metadata": {},
   "outputs": [],
   "source": [
    "# deque(데크)\n",
    "from collections import deque"
   ]
  },
  {
   "cell_type": "markdown",
   "metadata": {},
   "source": [
    "- 스택 구현"
   ]
  },
  {
   "cell_type": "code",
   "execution_count": null,
   "metadata": {},
   "outputs": [
    {
     "data": {
      "text/plain": [
       "deque([1, 2, 3, 4, 5])"
      ]
     },
     "execution_count": 2,
     "metadata": {},
     "output_type": "execute_result"
    }
   ],
   "source": [
    "dqStack = deque()\n",
    "\n",
    "for i in range(1, 6):\n",
    "    dqStack.append(i)   # push\n",
    "\n",
    "dqStack"
   ]
  },
  {
   "cell_type": "code",
   "execution_count": null,
   "metadata": {},
   "outputs": [
    {
     "data": {
      "text/plain": [
       "5"
      ]
     },
     "execution_count": 3,
     "metadata": {},
     "output_type": "execute_result"
    }
   ],
   "source": [
    "dqStack.pop()  "
   ]
  },
  {
   "cell_type": "code",
   "execution_count": 4,
   "metadata": {},
   "outputs": [
    {
     "data": {
      "text/plain": [
       "deque([1, 2, 3, 4])"
      ]
     },
     "execution_count": 4,
     "metadata": {},
     "output_type": "execute_result"
    }
   ],
   "source": [
    "dqStack"
   ]
  },
  {
   "cell_type": "markdown",
   "metadata": {},
   "source": [
    "- 큐 구현"
   ]
  },
  {
   "cell_type": "code",
   "execution_count": null,
   "metadata": {},
   "outputs": [
    {
     "data": {
      "text/plain": [
       "deque([1, 2, 3, 4, 5])"
      ]
     },
     "execution_count": 6,
     "metadata": {},
     "output_type": "execute_result"
    }
   ],
   "source": [
    "dqQueue = deque()\n",
    "for i in range(1, 6):\n",
    "    dqQueue.append(i)   # enQueue\n",
    "\n",
    "dqQueue"
   ]
  },
  {
   "cell_type": "code",
   "execution_count": null,
   "metadata": {},
   "outputs": [
    {
     "data": {
      "text/plain": [
       "1"
      ]
     },
     "execution_count": 7,
     "metadata": {},
     "output_type": "execute_result"
    }
   ],
   "source": [
    "dqQueue.popleft()   # deQueue"
   ]
  },
  {
   "cell_type": "code",
   "execution_count": 8,
   "metadata": {},
   "outputs": [
    {
     "data": {
      "text/plain": [
       "deque([2, 3, 4, 5])"
      ]
     },
     "execution_count": 8,
     "metadata": {},
     "output_type": "execute_result"
    }
   ],
   "source": [
    "dqQueue"
   ]
  }
 ],
 "metadata": {
  "kernelspec": {
   "display_name": "Python 3",
   "language": "python",
   "name": "python3"
  },
  "language_info": {
   "codemirror_mode": {
    "name": "ipython",
    "version": 3
   },
   "file_extension": ".py",
   "mimetype": "text/x-python",
   "name": "python",
   "nbconvert_exporter": "python",
   "pygments_lexer": "ipython3",
   "version": "3.11.9"
  }
 },
 "nbformat": 4,
 "nbformat_minor": 2
}
