{
 "cells": [
  {
   "cell_type": "markdown",
   "metadata": {},
   "source": [
    "### Binary Tree 이진트리\n",
    "<img src=\"https://upload.wikimedia.org/wikipedia/commons/thumb/f/f7/Binary_tree.svg/300px-Binary_tree.svg.png?20110216185700\" width=\"400\">\n",
    "\n",
    "- 나무를 거꾸로 뒤집은 모양의 자료구조\n",
    "- 이진트리가 구현이 쉽다\n",
    "- 이진트리 왼쪽, 오른쪽 노드를 가지고 아래로 레벨을 내려가는 형태\n",
    "- 이중 연결리스트 노드와 모양 동일"
   ]
  },
  {
   "cell_type": "markdown",
   "metadata": {},
   "source": [
    "- 트리노드 클래스"
   ]
  },
  {
   "cell_type": "code",
   "execution_count": 2,
   "metadata": {},
   "outputs": [],
   "source": [
    "class TreeNode:\n",
    "    def __init__(self):\n",
    "        self.left = None\n",
    "        self.data = None\n",
    "        self.right = None"
   ]
  },
  {
   "cell_type": "markdown",
   "metadata": {},
   "source": [
    "- 루트노드(level 0) 생성"
   ]
  },
  {
   "cell_type": "code",
   "execution_count": 3,
   "metadata": {},
   "outputs": [],
   "source": [
    "node1 = TreeNode()\n",
    "node1.data = '호날두'"
   ]
  },
  {
   "cell_type": "markdown",
   "metadata": {},
   "source": [
    "- 자식노드(level 1) 생성"
   ]
  },
  {
   "cell_type": "code",
   "execution_count": 4,
   "metadata": {},
   "outputs": [],
   "source": [
    "node2 = TreeNode()\n",
    "node2.data = '메시'\n",
    "node1.left = node2  # node1.left 변수에 node2를 집어넣음 -> 연결\n",
    "\n",
    "node3 = TreeNode()\n",
    "node3.data = '음바페'\n",
    "node1.right = node3"
   ]
  },
  {
   "cell_type": "markdown",
   "metadata": {},
   "source": [
    "- 리프노드(level 2) 생성"
   ]
  },
  {
   "cell_type": "code",
   "execution_count": 5,
   "metadata": {},
   "outputs": [],
   "source": [
    "node4 = TreeNode()\n",
    "node4.data = '홀란드'\n",
    "node2.left = node4\n",
    "\n",
    "node5 = TreeNode()\n",
    "node5.data = '비니시우스'\n",
    "node2.right = node5\n",
    "\n",
    "node6 = TreeNode()\n",
    "node6.data = '케인'\n",
    "node3.left = node6"
   ]
  },
  {
   "cell_type": "markdown",
   "metadata": {},
   "source": [
    "- 전체 구조"
   ]
  },
  {
   "cell_type": "code",
   "execution_count": 6,
   "metadata": {},
   "outputs": [
    {
     "name": "stdout",
     "output_type": "stream",
     "text": [
      "호날두 \n",
      "\n",
      "메시 음바페 \n",
      "\n",
      "홀란드 비니시우스 케인 "
     ]
    }
   ],
   "source": [
    "print(node1.data, end=' ')\n",
    "print()\n",
    "print()\n",
    "print(node1.left.data, node1.right.data, end=' ')\n",
    "print()\n",
    "print()\n",
    "print(node1.left.left.data, node1.left.right.data, node1.right.left.data, end=' ')"
   ]
  },
  {
   "cell_type": "markdown",
   "metadata": {},
   "source": [
    "#### 이진 트리 순회\n",
    "- 노드를 한 번씩 방문해서 전체를 다 도는 것 - 순회(Traversal)\n",
    "    - 전위 순회(preorder) - 노드, 왼쪽, 오른쪽 순으로 진행\n",
    "    - 중위 순회(inorder) - 왼쪽, 노드, 오른쪽 순으로 진행\n",
    "    - 후위 순회(postorder) - 왼쪽, 오른쪽, 노드 순으로 진행"
   ]
  },
  {
   "cell_type": "code",
   "execution_count": 9,
   "metadata": {},
   "outputs": [
    {
     "name": "stdout",
     "output_type": "stream",
     "text": [
      "호날두->메시->홀란드->비니시우스->음바페->케인->"
     ]
    }
   ],
   "source": [
    "# 전위 순회 함수 정의\n",
    "def preorder(node): # 루트 노드 -> 파라미터\n",
    "    if node == None: return\n",
    "\n",
    "    print(node.data, end='->')\n",
    "    preorder(node.left)     # 재귀호출(Recursive call)\n",
    "    preorder(node.right)    # 재귀호출(Recursive call)\n",
    "\n",
    "# 함수 호출\n",
    "preorder(node1)"
   ]
  },
  {
   "cell_type": "code",
   "execution_count": 10,
   "metadata": {},
   "outputs": [
    {
     "name": "stdout",
     "output_type": "stream",
     "text": [
      "홀란드 -> 메시 -> 비니시우스 -> 호날두 -> 케인 -> 음바페 -> "
     ]
    }
   ],
   "source": [
    "# 중위순회 함수 정의\n",
    "def inorder(node):\n",
    "    if node is None: return\n",
    "\n",
    "    inorder(node.left)\n",
    "    print(node.data, end=' -> ')\n",
    "    inorder(node.right)\n",
    "\n",
    "# 함수 호출\n",
    "inorder(node1)"
   ]
  },
  {
   "cell_type": "code",
   "execution_count": 13,
   "metadata": {},
   "outputs": [
    {
     "name": "stdout",
     "output_type": "stream",
     "text": [
      "홀란드 -> 비니시우스 -> 메시 -> 케인 -> 음바페 -> 호날두 -> "
     ]
    }
   ],
   "source": [
    "# 후위순회 함수 정의\n",
    "def postorder(node):\n",
    "    if node is None: return\n",
    "\n",
    "    postorder(node.left)\n",
    "    postorder(node.right)\n",
    "    print(node.data, end=' -> ')\n",
    "\n",
    "# 함수 호출\n",
    "postorder(node1)"
   ]
  },
  {
   "cell_type": "markdown",
   "metadata": {},
   "source": [
    "#### 이진트리 사용 예\n",
    "- 탐색, 정렬 - 이진 탐색트리\n",
    "- 우선순위 큐 및 힙(OS 메모리)\n",
    "- 다익스트라 최단거리 경로 알고리즘\n",
    "- 수식 표현식(사람이 보는 수식과 컴퓨터가 계산하는 수식의 차이)\n",
    "- 허프만 트리(압축 알고리즘)\n",
    "- DB 인덱싱\n",
    "- 머신러닝, 의사결정 트리"
   ]
  }
 ],
 "metadata": {
  "kernelspec": {
   "display_name": "Python 3",
   "language": "python",
   "name": "python3"
  },
  "language_info": {
   "codemirror_mode": {
    "name": "ipython",
    "version": 3
   },
   "file_extension": ".py",
   "mimetype": "text/x-python",
   "name": "python",
   "nbconvert_exporter": "python",
   "pygments_lexer": "ipython3",
   "version": "3.11.9"
  }
 },
 "nbformat": 4,
 "nbformat_minor": 2
}
